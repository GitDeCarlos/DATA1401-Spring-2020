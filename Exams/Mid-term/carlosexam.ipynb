{
  "nbformat": 4,
  "nbformat_minor": 0,
  "metadata": {
    "kernelspec": {
      "display_name": "Python 3",
      "language": "python",
      "name": "python3"
    },
    "language_info": {
      "codemirror_mode": {
        "name": "ipython",
        "version": 3
      },
      "file_extension": ".py",
      "mimetype": "text/x-python",
      "name": "python",
      "nbconvert_exporter": "python",
      "pygments_lexer": "ipython3",
      "version": "3.8.1"
    },
    "colab": {
      "name": "Copy of Exam.ipynb",
      "provenance": [],
      "collapsed_sections": []
    }
  },
  "cells": [
    {
      "cell_type": "markdown",
      "metadata": {
        "id": "x3GKYBctTQCY",
        "colab_type": "text"
      },
      "source": [
        "# Mid-term Exam\n",
        "\n",
        "[![Open In Colab](https://colab.research.google.com/assets/colab-badge.svg)](https://colab.research.google.com/github//afarbin/DATA1401-Spring-2020/blob/master/Exams/Mid-term/Exam.ipynb)\n",
        "\n",
        "Add cells to this notebook as you need for your solutions and your test of your solutions."
      ]
    },
    {
      "cell_type": "markdown",
      "metadata": {
        "id": "x5E8pDvgTQCd",
        "colab_type": "text"
      },
      "source": [
        "1. Write a function `first_alphabetically(lst)` that takes a list `lst` of strings and returns the string that is alphabetically first. For example, calling your function with the list of states:"
      ]
    },
    {
      "cell_type": "code",
      "metadata": {
        "id": "97TY2NIzTQCg",
        "colab_type": "code",
        "colab": {}
      },
      "source": [
        "states=['Mississippi', 'Maryland', 'Delaware', 'Connecticut', 'Virginia', 'Utah', 'Kansas',\n",
        "        'Wyoming', 'Indiana', 'Louisiana', 'Missouri', 'Illinois', 'Minnesota', 'Vermont', \n",
        "        'New Mexico', 'North Dakota', 'Wisconsin', 'Tennessee', 'New York', 'Oklahoma', \n",
        "        'Colorado', 'Pennsylvania', 'West Virginia', 'Alabama', 'Montana', 'Texas', \n",
        "        'Washington', 'Michigan', 'New Hampshire', 'Arkansas', 'Hawaii', 'Iowa', \n",
        "        'Idaho', 'Kentucky', 'Ohio', 'Nebraska', 'Alaska', 'Oregon', 'South Dakota', \n",
        "        'New Jersey', 'Florida', 'Georgia', 'Rhode Island', 'Arizona', 'Maine', \n",
        "        'South Carolina', 'California', 'Nevada', 'Massachusetts', 'North Carolina']"
      ],
      "execution_count": 0,
      "outputs": []
    },
    {
      "cell_type": "markdown",
      "metadata": {
        "id": "r_I2cCuDTQCp",
        "colab_type": "text"
      },
      "source": [
        "should return the string `\"Alabama\"`. Note that you can compare strings:"
      ]
    },
    {
      "cell_type": "code",
      "metadata": {
        "id": "JgiApCqxTQCq",
        "colab_type": "code",
        "outputId": "5661b5d8-5ef8-4bf0-e9cf-785d6c1b5aec",
        "colab": {
          "base_uri": "https://localhost:8080/",
          "height": 85
        }
      },
      "source": [
        "print(\"A\">\"B\")\n",
        "print(\"B\">\"A\")\n",
        "print(\"A\">\"a\")\n",
        "print(\"bca\">\"bbc\")"
      ],
      "execution_count": 2,
      "outputs": [
        {
          "output_type": "stream",
          "text": [
            "False\n",
            "True\n",
            "False\n",
            "True\n"
          ],
          "name": "stdout"
        }
      ]
    },
    {
      "cell_type": "code",
      "metadata": {
        "id": "Ri8qehR4Uubz",
        "colab_type": "code",
        "colab": {}
      },
      "source": [
        "# Solution for exercise 1\n",
        "\n",
        "def first_alphabetically(lst):\n",
        "  first_word = lst[0]\n",
        "  for i in range(len(lst)):\n",
        "    if (i < len(lst)-1):\n",
        "      if (lst[i+1].lower() < first_word.lower()):\n",
        "        first_word = lst[i+1]\n",
        "  return first_word"
      ],
      "execution_count": 0,
      "outputs": []
    },
    {
      "cell_type": "code",
      "metadata": {
        "id": "ig9pHANUN_I-",
        "colab_type": "code",
        "outputId": "262eb6ee-22fb-47fa-fa72-26f6b981a1ab",
        "colab": {
          "base_uri": "https://localhost:8080/",
          "height": 34
        }
      },
      "source": [
        "# Testing solution 1\n",
        "\n",
        "print(first_alphabetically(states))"
      ],
      "execution_count": 4,
      "outputs": [
        {
          "output_type": "stream",
          "text": [
            "Alabama\n"
          ],
          "name": "stdout"
        }
      ]
    },
    {
      "cell_type": "markdown",
      "metadata": {
        "id": "ur5CHJefTQCx",
        "colab_type": "text"
      },
      "source": [
        "Make sure your implementation isn't case sensitive. Do not use python's built-in `min`, `max`, `sort` or any other sort function you find."
      ]
    },
    {
      "cell_type": "markdown",
      "metadata": {
        "id": "WvW7RymnTQCy",
        "colab_type": "text"
      },
      "source": [
        "2. Write a function `arg_first_alphabetically(lst)`, which does the same thing as in exercise 1 but returns the index of the first string alphabetically."
      ]
    },
    {
      "cell_type": "code",
      "metadata": {
        "id": "KYsmBayAOebE",
        "colab_type": "code",
        "colab": {}
      },
      "source": [
        "# Solution for exercise 2\n",
        "\n",
        "def arg_first_alphabetically(lst):\n",
        "  first_word = lst[0]\n",
        "  first_index = 0\n",
        "  for i in range(len(lst)):\n",
        "    if (i < len(lst)-1):\n",
        "      if (lst[i+1].lower() < first_word.lower()):\n",
        "        first_word = lst[i+1]\n",
        "        first_index = i+1\n",
        "  return first_index"
      ],
      "execution_count": 0,
      "outputs": []
    },
    {
      "cell_type": "code",
      "metadata": {
        "id": "zre3UJ9_OhAE",
        "colab_type": "code",
        "outputId": "4585e242-c3d4-45bf-bac8-881d96462184",
        "colab": {
          "base_uri": "https://localhost:8080/",
          "height": 34
        }
      },
      "source": [
        "# Testing solution 2\n",
        "\n",
        "print(arg_first_alphabetically(states))"
      ],
      "execution_count": 6,
      "outputs": [
        {
          "output_type": "stream",
          "text": [
            "23\n"
          ],
          "name": "stdout"
        }
      ]
    },
    {
      "cell_type": "markdown",
      "metadata": {
        "id": "nQUcKs5ITQC0",
        "colab_type": "text"
      },
      "source": [
        "3. Use your result in question 2 to implement a function `arg_sort_alphabetically(lst)` that returns a list that is alphabetically sorted. Sorting can be accomplished by successively applying the function in question 1 and removing the first element alphabetically. You can remove an element from a list using `pop()`. Make sure your implementation isn't case sensitive. Do not use python's built-in `min`, `max`, `sort` or any other sort function you find."
      ]
    },
    {
      "cell_type": "code",
      "metadata": {
        "id": "k6DONEZKPS6P",
        "colab_type": "code",
        "colab": {}
      },
      "source": [
        "# Solution for exercise 3\n",
        "\n",
        "def arg_sort_alphabetically(lst):\n",
        "  lst_sort = []\n",
        "  for i in range(len(lst)):\n",
        "    lst_sort.append(first_alphabetically(lst))\n",
        "    lst.pop(arg_first_alphabetically(lst))\n",
        "  return lst_sort"
      ],
      "execution_count": 0,
      "outputs": []
    },
    {
      "cell_type": "code",
      "metadata": {
        "id": "GIqpnM9tPTiW",
        "colab_type": "code",
        "colab": {
          "base_uri": "https://localhost:8080/",
          "height": 54
        },
        "outputId": "35037fff-66b3-42ce-c845-c67085a70d50"
      },
      "source": [
        "# Testing solution 3\n",
        "\n",
        "print(arg_sort_alphabetically(states))"
      ],
      "execution_count": 10,
      "outputs": [
        {
          "output_type": "stream",
          "text": [
            "['Alabama', 'Alaska', 'Arizona', 'Arkansas', 'California', 'Colorado', 'Connecticut', 'Delaware', 'Florida', 'Georgia', 'Hawaii', 'Idaho', 'Illinois', 'Indiana', 'Iowa', 'Kansas', 'Kentucky', 'Louisiana', 'Maine', 'Maryland', 'Massachusetts', 'Michigan', 'Minnesota', 'Mississippi', 'Missouri', 'Montana', 'Nebraska', 'Nevada', 'New Hampshire', 'New Jersey', 'New Mexico', 'New York', 'North Carolina', 'North Dakota', 'Ohio', 'Oklahoma', 'Oregon', 'Pennsylvania', 'Rhode Island', 'South Carolina', 'South Dakota', 'Tennessee', 'Texas', 'Utah', 'Vermont', 'Virginia', 'Washington', 'West Virginia', 'Wisconsin', 'Wyoming']\n"
          ],
          "name": "stdout"
        }
      ]
    },
    {
      "cell_type": "markdown",
      "metadata": {
        "id": "bZy6kH8hTQC2",
        "colab_type": "text"
      },
      "source": [
        "4. Implement a function `outer_product` that takes two one-dimensional lists of numbers and returns the two-dimensional outer product matrix defined as:\n",
        "\n",
        "\\begin{equation*}\n",
        "\\begin{pmatrix} x_1\\\\x_2\\\\ \\vdots \\\\x_m \\end{pmatrix} \\begin{pmatrix} y_1&y_2& \\dots &y_n\\end{pmatrix} =\n",
        "\\begin{pmatrix}\n",
        "x_1y_1 & x_1y_2 & \\dots & x_1y_n\\\\\n",
        "x_2y_1 & x_2y_2 & \\dots & x_2y_n\\\\\n",
        "\\vdots & \\vdots & \\ddots & \\vdots \\\\\n",
        "x_my_1 & x_my_2 & \\dots & x_my_n\n",
        "\\end{pmatrix}\n",
        "\\end{equation*}\n",
        "\n",
        "In other words the elements of matrix C which is the outer product of A and B are $c_{ij} = a_i b_j$."
      ]
    },
    {
      "cell_type": "code",
      "metadata": {
        "id": "dd-KEnFlIRFa",
        "colab_type": "code",
        "colab": {}
      },
      "source": [
        "# Solution for exercise 4\n",
        "\n",
        "def outer_product(lst1, lst2):\n",
        "  lst_outer = [[0] * len(lst2) for i in range(len(lst1))]\n",
        "  for x in range(len(lst1)):\n",
        "    for y in range(len(lst2)):\n",
        "      lst_outer[x][y] = lst1[x] * lst2[y]\n",
        "  return lst_outer"
      ],
      "execution_count": 0,
      "outputs": []
    },
    {
      "cell_type": "code",
      "metadata": {
        "id": "unTezxyrIRs_",
        "colab_type": "code",
        "colab": {
          "base_uri": "https://localhost:8080/",
          "height": 34
        },
        "outputId": "30d5b561-0393-456c-cc1a-a9e0737fdeaf"
      },
      "source": [
        "# Testing solution 4\n",
        "\n",
        "lstx = [0,2,4,6]\n",
        "lsty = [1,3,5,7]\n",
        "print(outer_product(lstx, lsty))"
      ],
      "execution_count": 22,
      "outputs": [
        {
          "output_type": "stream",
          "text": [
            "[[0, 0, 0, 0], [2, 6, 10, 14], [4, 12, 20, 28], [6, 18, 30, 42]]\n"
          ],
          "name": "stdout"
        }
      ]
    },
    {
      "cell_type": "markdown",
      "metadata": {
        "id": "-ucaBzxkTQC3",
        "colab_type": "text"
      },
      "source": [
        "5. Implement a function `cumulative_sum(lst)` that takes a list of numbers and returns a list of same size where the element `i` is the sum of the elements `0` to `i` of the input list. For example given `[1,2,3]`, you should return [1,3,6]."
      ]
    },
    {
      "cell_type": "code",
      "metadata": {
        "id": "mwxSfnaCNezf",
        "colab_type": "code",
        "colab": {}
      },
      "source": [
        "# Solution for exercise 5\n",
        "\n",
        "def cumulative_sum(lst):\n",
        "  lst_sum = [0 for i in range(len(lst))]\n",
        "  for i in range(len(lst)):\n",
        "    for j in range(i+1):\n",
        "      lst_sum[i] += lst[j]\n",
        "  return lst_sum"
      ],
      "execution_count": 0,
      "outputs": []
    },
    {
      "cell_type": "code",
      "metadata": {
        "id": "65yPDJHINfHO",
        "colab_type": "code",
        "colab": {
          "base_uri": "https://localhost:8080/",
          "height": 34
        },
        "outputId": "cf372106-6bd7-411a-a405-aac465e4d3eb"
      },
      "source": [
        "# Testing solution 5\n",
        "\n",
        "lst = [1,2,3]\n",
        "print(cumulative_sum(lst))"
      ],
      "execution_count": 54,
      "outputs": [
        {
          "output_type": "stream",
          "text": [
            "[1, 3, 6]\n"
          ],
          "name": "stdout"
        }
      ]
    },
    {
      "cell_type": "markdown",
      "metadata": {
        "id": "X2nOXJ65TQC3",
        "colab_type": "text"
      },
      "source": [
        "6. Imagine you have a normal distributed random variable `x`. For example `x` can be grades on this exam. Using the normal distribution generator and histogram functions from lecture (provided below) and `cumulative_sum` from previous question to compute what is the value of `x_{90}` in $\\sigma$ such that 90% of the values $x$ are below `x_{90}`. In other words:"
      ]
    },
    {
      "cell_type": "markdown",
      "metadata": {
        "id": "cCvZnYcYTQC4",
        "colab_type": "text"
      },
      "source": [
        "$$\n",
        "\\int_{-\\infty}^{x_{90}} N(x;\\mu=0,\\sigma=1) dx = 0.9\n",
        "$$"
      ]
    },
    {
      "cell_type": "code",
      "metadata": {
        "id": "3sMcDBNaTQC5",
        "colab_type": "code",
        "colab": {}
      },
      "source": [
        "def generate_normal(N,m=0,s=1):\n",
        "    out = list() \n",
        "    \n",
        "    while len(out)<N:\n",
        "#    for _ in range(int(float(N)/2)+1):\n",
        "        U1=random.random()\n",
        "        U2=random.random()\n",
        "    \n",
        "        out.append(s*math.sqrt(-2*math.log(U1))*math.cos(2*math.pi*U2)+m)\n",
        "        out.append(s*math.sqrt(-2*math.log(U1))*math.sin(2*math.pi*U2)+m)\n",
        "\n",
        "    return out[:N]\n",
        "\n",
        "def histogram(data, n_bins=10,x_min=None, x_max=None):\n",
        "    if x_min==None:\n",
        "        x_min=min(data)\n",
        "    if x_max==None:\n",
        "        x_max=max(data)\n",
        "        \n",
        "    bin_edges = arange(x_min,x_max,n_bins)\n",
        "    bin_edges.append(x_max)\n",
        "\n",
        "    hist=[0]*n_bins\n",
        "    \n",
        "    for d in data:\n",
        "        for i in range(n_bins):\n",
        "            if d>=bin_edges[i] and d<bin_edges[i+1]:\n",
        "                hist[i]+=1\n",
        "                break\n",
        "                \n",
        "    return hist,bin_edges\n",
        "\n"
      ],
      "execution_count": 0,
      "outputs": []
    },
    {
      "cell_type": "code",
      "metadata": {
        "id": "tYKj0kW_TQDF",
        "colab_type": "code",
        "colab": {}
      },
      "source": [
        ""
      ],
      "execution_count": 0,
      "outputs": []
    }
  ]
}