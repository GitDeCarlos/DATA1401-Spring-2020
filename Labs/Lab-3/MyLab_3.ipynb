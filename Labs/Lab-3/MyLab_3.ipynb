{
  "nbformat": 4,
  "nbformat_minor": 0,
  "metadata": {
    "kernelspec": {
      "name": "python3",
      "display_name": "Python 3"
    },
    "colab": {
      "name": "Copy of Lab-3.ipynb",
      "provenance": [],
      "collapsed_sections": []
    }
  },
  "cells": [
    {
      "cell_type": "markdown",
      "metadata": {
        "id": "tVH_pVdSOyu4",
        "colab_type": "text"
      },
      "source": [
        "# Lab 3- Tic Tac Toe\n",
        "\n",
        "[![Open In Colab](https://colab.research.google.com/assets/colab-badge.svg)](https://colab.research.google.com/github//afarbin/DATA1401-Spring-2020/blob/master/Labs/Lab-3/Lab-3.ipynb)\n",
        "\n",
        "In this lab your will build a n x n Tic Tac Toe game. As you do the exercises, make sure your solutions work for any size Tic Tac Toe game. "
      ]
    },
    {
      "cell_type": "markdown",
      "metadata": {
        "id": "3MQBhkseOyu-",
        "colab_type": "text"
      },
      "source": [
        "*Exercise 1:* Write a function that creates an n by n matrix (of list of lists) which will represent the state of a Tie Tac Toe game. Let 0, 1, and 2 represent empty, \"X\", or \"O\".\n"
      ]
    },
    {
      "cell_type": "code",
      "metadata": {
        "deletable": true,
        "editable": true,
        "id": "-fCJQYkjOyvA",
        "colab_type": "code",
        "colab": {}
      },
      "source": [
        "# Write you solution here\n",
        "\n",
        "# Values that represent players or empty slot\n",
        "gamestate = {\n",
        "    0 : \" \",\n",
        "    1 : \"X\",\n",
        "    2 : \"O\"\n",
        "}\n",
        "\n",
        "# Size of the board for this game\n",
        "size = 3\n",
        "\n",
        "# Creation of the game board\n",
        "def create_the_board(size = 3):\n",
        "  board = [[0]*size for i in range(size)]\n",
        "  return board\n",
        "\n"
      ],
      "execution_count": 0,
      "outputs": []
    },
    {
      "cell_type": "code",
      "metadata": {
        "deletable": true,
        "editable": true,
        "id": "8r072yxyOyvM",
        "colab_type": "code",
        "outputId": "5efa8f01-09cd-4a47-c017-13ae02245a6a",
        "colab": {
          "base_uri": "https://localhost:8080/",
          "height": 34
        }
      },
      "source": [
        "# Test your solution here\n",
        "\n",
        "create_the_board(3)"
      ],
      "execution_count": 0,
      "outputs": [
        {
          "output_type": "execute_result",
          "data": {
            "text/plain": [
              "[[0, 0, 0], [0, 0, 0], [0, 0, 0]]"
            ]
          },
          "metadata": {
            "tags": []
          },
          "execution_count": 108
        }
      ]
    },
    {
      "cell_type": "markdown",
      "metadata": {
        "deletable": true,
        "editable": true,
        "id": "tP3iDgm0OyvU",
        "colab_type": "text"
      },
      "source": [
        "*Exercise 2:* Write a function that takes a `n` by `n` matrix representing a tic-tac-toe game, and returns -1, 0, 1, or 2 indicating the game is incomplete, the game is a draw, player 1 has won, or player 2 has one, respectively. Here are some example inputs you can use to test your code:"
      ]
    },
    {
      "cell_type": "code",
      "metadata": {
        "deletable": true,
        "editable": true,
        "id": "L4cF4BgCOyvW",
        "colab_type": "code",
        "colab": {}
      },
      "source": [
        "winner_is_2 = [[2, 2, 0],\n",
        "\t[2, 1, 0],\n",
        "\t[2, 1, 1]]\n",
        "\n",
        "winner_is_1 = [[1, 2, 0],\n",
        "\t[2, 1, 0],\n",
        "\t[2, 1, 1]]\n",
        "\n",
        "winner_is_also_1 = [[0, 1, 0],\n",
        "\t[2, 1, 0],\n",
        "\t[2, 1, 1]]\n",
        "\n",
        "no_winner = [[1, 2, 0],\n",
        "\t[2, 1, 0],\n",
        "\t[2, 1, 2]]\n",
        "\n",
        "also_no_winner = [[1, 2, 0],\n",
        "\t[2, 1, 0],\n",
        "\t[2, 1, 0]]"
      ],
      "execution_count": 0,
      "outputs": []
    },
    {
      "cell_type": "code",
      "metadata": {
        "deletable": true,
        "editable": true,
        "id": "zaXadAHuOyvf",
        "colab_type": "code",
        "colab": {}
      },
      "source": [
        "# Write you solution here\n",
        "\n",
        "def check_board(board):\n",
        "  winner = 0\n",
        "  for i in range(3):\n",
        "    if (board[i][0] == board[i][1] and board[i][0] == board[i][2] and board[i][0] != 0):\n",
        "      # print(\"Check for horiz win\")\n",
        "      winner = board[i][0]\n",
        "      return winner\n",
        "  for i in range(3):\n",
        "    if (board[0][i] == board[1][i] and board[0][i] == board[2][i] and board[0][i] != 0):\n",
        "      # print(\"Check for vert win\")\n",
        "      winner = board[0][i]\n",
        "      return winner\n",
        "  if (board[0][0] == board[1][1] and board[0][0] == board[2][2] and board[0][0] != 0):\n",
        "    # print(\"Check for tlbr\")\n",
        "    winner = board[0][0]\n",
        "    return winner\n",
        "  elif (board[2][2] == board[1][1] and board[2][2] == board[0][0] and board[2][2] != 0):\n",
        "    # print(\"Check for trbl\")\n",
        "    winner = board[2][2]\n",
        "    return winner\n",
        "  else:\n",
        "    for y in range(3):\n",
        "      for x in range(3):\n",
        "        if (board[y][x] == 0):\n",
        "          return -1\n",
        "    # print(\"no winner\")\n",
        "    return 0\n"
      ],
      "execution_count": 0,
      "outputs": []
    },
    {
      "cell_type": "code",
      "metadata": {
        "deletable": true,
        "editable": true,
        "id": "FYlHt7GfOyvo",
        "colab_type": "code",
        "outputId": "cf5dccb8-f820-4093-db89-031f65f6627c",
        "colab": {
          "base_uri": "https://localhost:8080/",
          "height": 102
        }
      },
      "source": [
        "# Test your solution here\n",
        "\n",
        "winner_is_2 = [[2, 2, 0],\n",
        "\t[2, 1, 0],\n",
        "\t[2, 1, 1]]\n",
        "\n",
        "winner_is_1 = [[1, 2, 0],\n",
        "\t[2, 1, 0],\n",
        "\t[2, 1, 1]]\n",
        "\n",
        "winner_is_also_1 = [[0, 1, 0],\n",
        "\t[2, 1, 0],\n",
        "\t[2, 1, 1]]\n",
        "\n",
        "no_winner = [[1, 2, 0],\n",
        "\t[2, 1, 0],\n",
        "\t[2, 1, 2]]\n",
        "\n",
        "also_no_winner = [[1, 2, 0],\n",
        "\t[2, 1, 0],\n",
        "\t[2, 1, 0]]\n",
        "\n",
        "\n",
        "print(check_board(winner_is_2))\n",
        "\n",
        "print(check_board(winner_is_1))\n",
        "\n",
        "print(check_board(winner_is_also_1))\n",
        "\n",
        "print(check_board(no_winner))\n",
        "\n",
        "print(check_board(also_no_winner))\n"
      ],
      "execution_count": 0,
      "outputs": [
        {
          "output_type": "stream",
          "text": [
            "2\n",
            "1\n",
            "1\n",
            "-1\n",
            "-1\n"
          ],
          "name": "stdout"
        }
      ]
    },
    {
      "cell_type": "markdown",
      "metadata": {
        "deletable": true,
        "editable": true,
        "id": "8IJfuO03Oyvx",
        "colab_type": "text"
      },
      "source": [
        "*Exercise 3:* Write a function that takes 2 integers `n` and `m` as input and draws a `n` by `m` game board. For example the following is a 3x3 board:\n",
        "```\n",
        "   --- --- --- \n",
        "  |   |   |   | \n",
        "   --- --- ---  \n",
        "  |   |   |   | \n",
        "   --- --- ---  \n",
        "  |   |   |   | \n",
        "   --- --- --- \n",
        "   ```"
      ]
    },
    {
      "cell_type": "code",
      "metadata": {
        "deletable": true,
        "editable": true,
        "id": "fIyVIa-zOyvz",
        "colab_type": "code",
        "colab": {}
      },
      "source": [
        "# Write you solution here\n",
        "\n",
        "def drawBoard(n, m):\n",
        "  def drawTop():\n",
        "    for i in range(n):\n",
        "      print(\" ---\", end='')\n",
        "    print()\n",
        "\n",
        "  def drawLine():\n",
        "    for i in range(n+1):\n",
        "      if (i==0):\n",
        "        print(\"|  \", end='')\n",
        "      else: print(\" |  \", end='')\n",
        "    print()\n",
        "  \n",
        "  for i in range(m+1):\n",
        "    if (i==0):\n",
        "      drawTop()\n",
        "    else:\n",
        "      drawLine()\n",
        "      drawTop()"
      ],
      "execution_count": 0,
      "outputs": []
    },
    {
      "cell_type": "code",
      "metadata": {
        "deletable": true,
        "editable": true,
        "id": "teoVKeqYOyv6",
        "colab_type": "code",
        "outputId": "7f74a8fd-3dcf-483d-86b7-e2c05977dfdb",
        "colab": {
          "base_uri": "https://localhost:8080/",
          "height": 136
        }
      },
      "source": [
        "# Test your solution here\n",
        "\n",
        "drawBoard(3, 3)"
      ],
      "execution_count": 0,
      "outputs": [
        {
          "output_type": "stream",
          "text": [
            " --- --- ---\n",
            "|   |   |   |  \n",
            " --- --- ---\n",
            "|   |   |   |  \n",
            " --- --- ---\n",
            "|   |   |   |  \n",
            " --- --- ---\n"
          ],
          "name": "stdout"
        }
      ]
    },
    {
      "cell_type": "markdown",
      "metadata": {
        "deletable": true,
        "editable": true,
        "id": "7C4GF9kmOywA",
        "colab_type": "text"
      },
      "source": [
        "*Exercise 4:* Modify exercise 3, so that it takes a matrix of the form from exercise 2 and draws a tic-tac-tie board with \"X\"s and \"O\"s.  "
      ]
    },
    {
      "cell_type": "code",
      "metadata": {
        "deletable": true,
        "editable": true,
        "id": "LUqAKrOrOywC",
        "colab_type": "code",
        "colab": {}
      },
      "source": [
        "# Write you solution here\n",
        "\n",
        "def drawBoard(board):\n",
        "  m = len(board[0])\n",
        "  n = len(board)\n",
        "  def drawTop():\n",
        "    for i in range(m):\n",
        "      print(\" ---\", end='')\n",
        "    print()\n",
        "\n",
        "  def drawLine(row):\n",
        "    for i in range(n):\n",
        "      if (i==0):\n",
        "        print(\"| %c \" %gamestate[board[row][i]], end='')\n",
        "      else: print(\"| %c \" %gamestate[board[row][i]], end='')\n",
        "    print(\"|\")\n",
        "  \n",
        "  for i in range(m+1):\n",
        "    if (i==0):\n",
        "      drawTop()\n",
        "    else:\n",
        "      drawLine(i-1)\n",
        "      drawTop()"
      ],
      "execution_count": 0,
      "outputs": []
    },
    {
      "cell_type": "code",
      "metadata": {
        "deletable": true,
        "editable": true,
        "id": "E7_8WGKpOywK",
        "colab_type": "code",
        "outputId": "11cc896b-4cfb-41ee-db81-e9800a74b8a2",
        "colab": {
          "base_uri": "https://localhost:8080/",
          "height": 136
        }
      },
      "source": [
        "# Test your solution here\n",
        "\n",
        "drawBoard(winner_is_1)"
      ],
      "execution_count": 0,
      "outputs": [
        {
          "output_type": "stream",
          "text": [
            " --- --- ---\n",
            "| X | O |   |\n",
            " --- --- ---\n",
            "| O | X |   |\n",
            " --- --- ---\n",
            "| O | X | X |\n",
            " --- --- ---\n"
          ],
          "name": "stdout"
        }
      ]
    },
    {
      "cell_type": "markdown",
      "metadata": {
        "deletable": true,
        "editable": true,
        "id": "zinaYCCmOywQ",
        "colab_type": "text"
      },
      "source": [
        "*Exercise 5:* Write a function that takes a game board, player number, and `(x,y)` coordinates and places \"X\" or \"O\" in the correct location of the game board. Make sure that you only allow filling previously empty locations. Return `True` or `False` to indicate successful placement of \"X\" or \"O\"."
      ]
    },
    {
      "cell_type": "code",
      "metadata": {
        "deletable": true,
        "editable": true,
        "id": "6rTFwh9pOywS",
        "colab_type": "code",
        "colab": {}
      },
      "source": [
        "# Write you solution here\n",
        "\n",
        "def placePiece(board, pnum, x, y):\n",
        "  if (board[y][x] == 0):\n",
        "    board[y][x] = pnum\n",
        "    return True\n",
        "  else: return False"
      ],
      "execution_count": 0,
      "outputs": []
    },
    {
      "cell_type": "code",
      "metadata": {
        "deletable": true,
        "editable": true,
        "id": "o8Dx9Bz-OywY",
        "colab_type": "code",
        "outputId": "38133d7d-018e-4373-e033-30220b6687c1",
        "colab": {
          "base_uri": "https://localhost:8080/",
          "height": 136
        }
      },
      "source": [
        "# Test your solution here\n",
        "\n",
        "board = create_the_board(3)\n",
        "\n",
        "placePiece(board, 1, 1, 2)\n",
        "drawBoard(board)"
      ],
      "execution_count": 0,
      "outputs": [
        {
          "output_type": "stream",
          "text": [
            " --- --- ---\n",
            "|   |   |   |\n",
            " --- --- ---\n",
            "|   |   |   |\n",
            " --- --- ---\n",
            "|   | X |   |\n",
            " --- --- ---\n"
          ],
          "name": "stdout"
        }
      ]
    },
    {
      "cell_type": "markdown",
      "metadata": {
        "deletable": true,
        "editable": true,
        "id": "5HY9JF1lOywf",
        "colab_type": "text"
      },
      "source": [
        "*Exercise 6:* Modify Exercise 4 to show column and row labels so that players can specify location using \"A2\" or \"C1\"."
      ]
    },
    {
      "cell_type": "code",
      "metadata": {
        "id": "cF1W5XbDOywg",
        "colab_type": "code",
        "colab": {}
      },
      "source": [
        "# Write you solution here\n",
        "\n",
        "def drawBoard(board):\n",
        "  m = len(board[0])\n",
        "  n = len(board)\n",
        "  def drawTop():\n",
        "    print(\" \", end='')\n",
        "    for i in range(m):\n",
        "      print(\" ---\", end='')\n",
        "    print()\n",
        "\n",
        "  def drawLine(row):\n",
        "    print(\"%d\" %(row+1), end='')\n",
        "    for i in range(n):\n",
        "      if (i==0):\n",
        "        print(\"| %c \" %gamestate[board[row][i]], end='')\n",
        "      else: print(\"| %c \" %gamestate[board[row][i]], end='')\n",
        "    print(\"|\")\n",
        "  \n",
        "  for i in range(m+1):\n",
        "    if (i==0):\n",
        "      print(\"   A   B   C\")\n",
        "      drawTop()\n",
        "    else:\n",
        "      drawLine(i-1)\n",
        "      drawTop()"
      ],
      "execution_count": 0,
      "outputs": []
    },
    {
      "cell_type": "code",
      "metadata": {
        "deletable": true,
        "editable": true,
        "id": "lghOKpXrOywo",
        "colab_type": "code",
        "outputId": "fccb9a2d-7a90-4086-8839-977d39dba3b6",
        "colab": {
          "base_uri": "https://localhost:8080/",
          "height": 153
        }
      },
      "source": [
        "# Test your solution here\n",
        "\n",
        "drawBoard(board)"
      ],
      "execution_count": 0,
      "outputs": [
        {
          "output_type": "stream",
          "text": [
            "   A   B   C\n",
            "  --- --- ---\n",
            "1|   |   |   |\n",
            "  --- --- ---\n",
            "2|   |   |   |\n",
            "  --- --- ---\n",
            "3|   | X |   |\n",
            "  --- --- ---\n"
          ],
          "name": "stdout"
        }
      ]
    },
    {
      "cell_type": "markdown",
      "metadata": {
        "deletable": true,
        "editable": true,
        "id": "OYLUVcyAOywv",
        "colab_type": "text"
      },
      "source": [
        "*Exercise 7:* Write a function that takes a board, player number, and location specified as in exercise 6 and then calls exercise 5 to correctly modify the board.  "
      ]
    },
    {
      "cell_type": "code",
      "metadata": {
        "deletable": true,
        "editable": true,
        "id": "zmAd8FMIOywy",
        "colab_type": "code",
        "colab": {}
      },
      "source": [
        "# Write you solution here\n",
        "\n",
        "def inputPos(board, pnum, location):\n",
        "  inputmap = {\n",
        "      \"A\": 0,\n",
        "      \"B\": 1,\n",
        "      \"C\": 2\n",
        "  }\n",
        "  placePiece(board, pnum, inputmap[location[0]], int(location[1])-1)"
      ],
      "execution_count": 0,
      "outputs": []
    },
    {
      "cell_type": "code",
      "metadata": {
        "deletable": true,
        "editable": true,
        "id": "zNAludfOOyw4",
        "colab_type": "code",
        "outputId": "0018599d-9e3d-4d25-aeff-5b0ff688349e",
        "colab": {
          "base_uri": "https://localhost:8080/",
          "height": 153
        }
      },
      "source": [
        "# Test your solution here\n",
        "\n",
        "inputPos(board, 2, \"A3\")\n",
        "drawBoard(board)"
      ],
      "execution_count": 0,
      "outputs": [
        {
          "output_type": "stream",
          "text": [
            "   A   B   C\n",
            "  --- --- ---\n",
            "1| X |   |   |\n",
            "  --- --- ---\n",
            "2|   |   |   |\n",
            "  --- --- ---\n",
            "3| O |   |   |\n",
            "  --- --- ---\n"
          ],
          "name": "stdout"
        }
      ]
    },
    {
      "cell_type": "markdown",
      "metadata": {
        "deletable": true,
        "editable": true,
        "id": "Zhm0_pXzOyw9",
        "colab_type": "text"
      },
      "source": [
        "*Exercise 8:* Write a function is called with a board and player number, takes input from the player using python's `input`, and modifies the board using your function from exercise 7. Note that you should keep asking for input until you have gotten a valid input that results in a valid move."
      ]
    },
    {
      "cell_type": "code",
      "metadata": {
        "deletable": true,
        "editable": true,
        "id": "DKuCd40LOyxA",
        "colab_type": "code",
        "colab": {}
      },
      "source": [
        "# Write you solution here\n",
        "\n",
        "def nextMove(board, pnum):\n",
        "  def validInput(instr):\n",
        "    if (len(instr) > 2):\n",
        "      return False\n",
        "    elif (instr[0] != \"A\" and instr[0] != \"B\" and instr[0] != \"C\"):\n",
        "      return False\n",
        "    elif (int(instr[1]) > 3):\n",
        "      return False\n",
        "    else: return True\n",
        "\n",
        "  validMove = False\n",
        "  while (validMove == False):\n",
        "      instr = input(\"Enter move (EX: A2): \")\n",
        "        \n",
        "      validMove = validInput(instr)\n",
        "      if (validMove == False):\n",
        "        print(\"Invalid move, try again.\")\n",
        "      else:\n",
        "        inputPos(board, pnum, instr)"
      ],
      "execution_count": 0,
      "outputs": []
    },
    {
      "cell_type": "code",
      "metadata": {
        "deletable": true,
        "editable": true,
        "id": "h2OvdkBCOyxL",
        "colab_type": "code",
        "outputId": "103ca64f-3bf4-459d-c221-ff5dbd23ccc2",
        "colab": {
          "base_uri": "https://localhost:8080/",
          "height": 204
        }
      },
      "source": [
        "# Test your solution here\n",
        "\n",
        "board = create_the_board(3)\n",
        "\n",
        "nextMove(board, 1)\n",
        "drawBoard(board)"
      ],
      "execution_count": 0,
      "outputs": [
        {
          "output_type": "stream",
          "text": [
            "Enter move (EX: A2): B7\n",
            "Invalid move, try again.\n",
            "Enter move (EX: A2): B3\n",
            "   A   B   C\n",
            "  --- --- ---\n",
            "1|   |   |   |\n",
            "  --- --- ---\n",
            "2|   |   |   |\n",
            "  --- --- ---\n",
            "3|   | X |   |\n",
            "  --- --- ---\n"
          ],
          "name": "stdout"
        }
      ]
    },
    {
      "cell_type": "markdown",
      "metadata": {
        "deletable": true,
        "editable": true,
        "id": "fwxBqhhkOyxR",
        "colab_type": "text"
      },
      "source": [
        "*Exercise 9:* Use all of the previous exercises to implement a full tic-tac-toe game, where an appropriate board is drawn, 2 players are repeatedly asked for a location coordinates of where they wish to place a mark, and the game status is checked until a player wins or a draw occurs."
      ]
    },
    {
      "cell_type": "code",
      "metadata": {
        "deletable": true,
        "editable": true,
        "id": "tkpH-d27OyxT",
        "colab_type": "code",
        "outputId": "a95bad91-a2dc-4ae5-e136-ad90803feffb",
        "colab": {
          "base_uri": "https://localhost:8080/",
          "height": 918
        }
      },
      "source": [
        "# Write you solution here\n",
        "\n",
        "game_is_over = False\n",
        "pnum = 1\n",
        "board = create_the_board(3)\n",
        "\n",
        "while (game_is_over == False):\n",
        "  drawBoard(board)\n",
        "  nextMove(board, pnum)\n",
        "  if (pnum == 1):\n",
        "    pnum = 2\n",
        "  else: pnum = 1\n",
        "  print(check_board(board))\n",
        "\n",
        "  if (check_board(board) == 1):\n",
        "    drawBoard(board)\n",
        "    print(\"Player1 wins\")\n",
        "    game_is_over = True\n",
        "  elif (check_board(board) == 2):\n",
        "    drawBoard(board)\n",
        "    print(\"Player2 wins\")\n",
        "    game_is_over = True\n",
        "  elif (check_board(board) == 0):\n",
        "    drawBoard(board)\n",
        "    print(\"Out of space on board, no winners!!\")\n",
        "\n"
      ],
      "execution_count": 0,
      "outputs": [
        {
          "output_type": "stream",
          "text": [
            " --- --- ---\n",
            "|   |   |   |\n",
            " --- --- ---\n",
            "|   |   |   |\n",
            " --- --- ---\n",
            "|   |   |   |\n",
            " --- --- ---\n",
            "Enter move (EX: A2): A1\n",
            "-1\n",
            " --- --- ---\n",
            "| X |   |   |\n",
            " --- --- ---\n",
            "|   |   |   |\n",
            " --- --- ---\n",
            "|   |   |   |\n",
            " --- --- ---\n",
            "Enter move (EX: A2): B2\n",
            "-1\n",
            " --- --- ---\n",
            "| X |   |   |\n",
            " --- --- ---\n",
            "|   | O |   |\n",
            " --- --- ---\n",
            "|   |   |   |\n",
            " --- --- ---\n",
            "Enter move (EX: A2): B1\n",
            "-1\n",
            " --- --- ---\n",
            "| X | X |   |\n",
            " --- --- ---\n",
            "|   | O |   |\n",
            " --- --- ---\n",
            "|   |   |   |\n",
            " --- --- ---\n",
            "Enter move (EX: A2): A3\n",
            "-1\n",
            " --- --- ---\n",
            "| X | X |   |\n",
            " --- --- ---\n",
            "|   | O |   |\n",
            " --- --- ---\n",
            "| O |   |   |\n",
            " --- --- ---\n",
            "Enter move (EX: A2): C1\n",
            "1\n",
            " --- --- ---\n",
            "| X | X | X |\n",
            " --- --- ---\n",
            "|   | O |   |\n",
            " --- --- ---\n",
            "| O |   |   |\n",
            " --- --- ---\n",
            "Player1 wins\n"
          ],
          "name": "stdout"
        }
      ]
    },
    {
      "cell_type": "code",
      "metadata": {
        "deletable": true,
        "editable": true,
        "id": "AbTqKD15OyxY",
        "colab_type": "code",
        "colab": {}
      },
      "source": [
        "# Test your solution here"
      ],
      "execution_count": 0,
      "outputs": []
    },
    {
      "cell_type": "markdown",
      "metadata": {
        "deletable": true,
        "editable": true,
        "id": "9md8zRQqOyxe",
        "colab_type": "text"
      },
      "source": [
        "*Exercise 10:* Test that your game works for 5x5 Tic Tac Toe.  "
      ]
    },
    {
      "cell_type": "code",
      "metadata": {
        "deletable": true,
        "editable": true,
        "id": "JRICnjdSOyxg",
        "colab_type": "code",
        "colab": {}
      },
      "source": [
        "# Test your solution here"
      ],
      "execution_count": 0,
      "outputs": []
    },
    {
      "cell_type": "markdown",
      "metadata": {
        "deletable": true,
        "editable": true,
        "id": "C5kfjfsqOyxm",
        "colab_type": "text"
      },
      "source": [
        "*Exercise 11: (Extra Credit)* Develop a version of the game where one player is the computer. Note that you don't need to do an extensive seach for the best move. You can have the computer simply protect against loosing and otherwise try to win with straight or diagonal patterns."
      ]
    },
    {
      "cell_type": "code",
      "metadata": {
        "deletable": true,
        "editable": true,
        "id": "G3dUxm6cOyxn",
        "colab_type": "code",
        "colab": {}
      },
      "source": [
        "# Write you solution here"
      ],
      "execution_count": 0,
      "outputs": []
    },
    {
      "cell_type": "code",
      "metadata": {
        "deletable": true,
        "editable": true,
        "id": "yWjDWm0nOyxt",
        "colab_type": "code",
        "colab": {}
      },
      "source": [
        "# Test your solution here"
      ],
      "execution_count": 0,
      "outputs": []
    }
  ]
}