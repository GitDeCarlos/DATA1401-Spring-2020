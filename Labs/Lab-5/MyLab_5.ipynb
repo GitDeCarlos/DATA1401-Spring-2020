{
  "nbformat": 4,
  "nbformat_minor": 0,
  "metadata": {
    "kernelspec": {
      "display_name": "Python 3",
      "language": "python",
      "name": "python3"
    },
    "language_info": {
      "codemirror_mode": {
        "name": "ipython",
        "version": 3
      },
      "file_extension": ".py",
      "mimetype": "text/x-python",
      "name": "python",
      "nbconvert_exporter": "python",
      "pygments_lexer": "ipython3",
      "version": "3.8.1"
    },
    "colab": {
      "name": "Copy of Lab-5.ipynb",
      "provenance": [],
      "collapsed_sections": []
    }
  },
  "cells": [
    {
      "cell_type": "markdown",
      "metadata": {
        "id": "5kSPQieaRM7g",
        "colab_type": "text"
      },
      "source": [
        "# Lab 5- Object Oriented Programming\n",
        "\n",
        "[![Open In Colab](https://colab.research.google.com/assets/colab-badge.svg)](https://colab.research.google.com/github//afarbin/DATA1401-Spring-2020/blob/master/Labs/Lab-5/Lab-5.ipynb)\n",
        "\n",
        "For all of the exercises below, make sure you provide tests of your solutions.\n"
      ]
    },
    {
      "cell_type": "markdown",
      "metadata": {
        "id": "xsqY7paURM7g",
        "colab_type": "text"
      },
      "source": [
        "1. Write a \"counter\" class that can be incremented up to a specified maximum value, will print an error if an attempt is made to increment beyond that value, and allows reseting the counter. "
      ]
    },
    {
      "cell_type": "code",
      "metadata": {
        "id": "teiANdH_Rcbu",
        "colab_type": "code",
        "colab": {}
      },
      "source": [
        "class counter:\n",
        "  def __init__(self,max_val):\n",
        "    self.max_val = max_val\n",
        "    self.cur_val = 0\n",
        "\n",
        "  def increment(self):\n",
        "    if (self.cur_val > self.max_val):\n",
        "      print(\"Max value reached.\")\n",
        "    else:\n",
        "      self.cur_val += 1\n",
        "\n",
        "  def reset(self):\n",
        "    self.cur_val = 0\n"
      ],
      "execution_count": 0,
      "outputs": []
    },
    {
      "cell_type": "code",
      "metadata": {
        "id": "lwWgHQz3SVtj",
        "colab_type": "code",
        "colab": {}
      },
      "source": [
        "my_counter = counter(3)"
      ],
      "execution_count": 0,
      "outputs": []
    },
    {
      "cell_type": "code",
      "metadata": {
        "id": "-fXa77DJVRyI",
        "colab_type": "code",
        "colab": {}
      },
      "source": [
        "my_counter.increment()\n",
        "my_counter.increment()\n",
        "my_counter.increment()\n",
        "\n",
        "my_counter.reset()\n",
        "\n",
        "my_counter.increment()\n",
        "my_counter.increment()\n",
        "my_counter.increment()\n",
        "my_counter.increment()"
      ],
      "execution_count": 0,
      "outputs": []
    },
    {
      "cell_type": "markdown",
      "metadata": {
        "id": "N1MaHIPqRM7h",
        "colab_type": "text"
      },
      "source": [
        "2. Copy and paste your solution to question 1 and modify it so that all the data held by the counter is private. Implement functions to check the value of the counter, check the maximum value, and check if the counter is at the maximum."
      ]
    },
    {
      "cell_type": "code",
      "metadata": {
        "id": "L_t3Hh58RfQB",
        "colab_type": "code",
        "colab": {}
      },
      "source": [
        "class counter:\n",
        "  def __init__(self,max_val):\n",
        "    self.__max_val = max_val\n",
        "    self.__cur_val = 1\n",
        "\n",
        "  def increment(self):\n",
        "    if (self.__cur_val > self.__max_val):\n",
        "      print(\"Max value reached.\")\n",
        "    else:\n",
        "      self.__cur_val += 1\n",
        "\n",
        "  def reset(self):\n",
        "    self.__cur_val = 0\n",
        "  \n",
        "  def cur_val(self):\n",
        "    return self.__cur_val\n",
        "\n",
        "  def max_val(self):\n",
        "    return self.__max_val\n",
        "\n",
        "  def check_max(self):\n",
        "    return self.__cur_val == self.__max_val\n"
      ],
      "execution_count": 0,
      "outputs": []
    },
    {
      "cell_type": "code",
      "metadata": {
        "id": "Xb-Lr8StTEV6",
        "colab_type": "code",
        "colab": {}
      },
      "source": [
        "my_counter = counter(3)"
      ],
      "execution_count": 0,
      "outputs": []
    },
    {
      "cell_type": "code",
      "metadata": {
        "id": "PLErIPGLTJJh",
        "colab_type": "code",
        "outputId": "b93fb22f-b34e-4920-b34f-ea53e525f25e",
        "colab": {
          "base_uri": "https://localhost:8080/",
          "height": 85
        }
      },
      "source": [
        "print(\"Current Val: \",my_counter.cur_val())\n",
        "print(\"Max Val: \",my_counter.max_val())\n",
        "\n",
        "my_counter.increment()\n",
        "my_counter.increment()\n",
        "\n",
        "print(\"Current Val: \",my_counter.cur_val())\n",
        "print(\"Max Check: \",my_counter.check_max())"
      ],
      "execution_count": 7,
      "outputs": [
        {
          "output_type": "stream",
          "text": [
            "Current Val:  1\n",
            "Max Val:  3\n",
            "Current Val:  3\n",
            "Max Check:  True\n"
          ],
          "name": "stdout"
        }
      ]
    },
    {
      "cell_type": "markdown",
      "metadata": {
        "id": "HWM4f2auRM7h",
        "colab_type": "text"
      },
      "source": [
        "3. Implement a class to represent a rectangle, holding the length, width, and $x$ and $y$ coordinates of a corner of the object. Implement functions that compute the area and parameter of the rectangle. Make all data members private and privide accessors to retrieve values of data members. "
      ]
    },
    {
      "cell_type": "code",
      "metadata": {
        "id": "OVZWVhEmRfq-",
        "colab_type": "code",
        "colab": {}
      },
      "source": [
        "class rectangle:\n",
        "  def __init__(self,width,length,x,y):\n",
        "    self.__width = width\n",
        "    self.__length = length\n",
        "    self.__x = x\n",
        "    self.__y = y\n",
        "\n",
        "  def area(self):\n",
        "    return self.__width * self.__length\n",
        "\n",
        "  def perimeter(self):\n",
        "    return 2*(self.__width + self.__length)\n",
        "\n",
        "  def width(self):\n",
        "    return self.__width\n",
        "\n",
        "  def length(self):\n",
        "    return self.__length\n",
        "\n",
        "  def x(self):\n",
        "    return self.__x\n",
        "\n",
        "  def y(self):\n",
        "    return self.__y"
      ],
      "execution_count": 0,
      "outputs": []
    },
    {
      "cell_type": "code",
      "metadata": {
        "id": "-lCdedwXJX-K",
        "colab_type": "code",
        "colab": {
          "base_uri": "https://localhost:8080/",
          "height": 51
        },
        "outputId": "bf23e4fc-b5e6-4e49-d07b-b8d39c7d7a0d"
      },
      "source": [
        "my_rectangle = rectangle(2,2,1,5)\n",
        "print(\"Area: \",my_rectangle.area())\n",
        "print(\"Perimeter: \",my_rectangle.perimeter())"
      ],
      "execution_count": 11,
      "outputs": [
        {
          "output_type": "stream",
          "text": [
            "Area:  4\n",
            "Perimeter:  8\n"
          ],
          "name": "stdout"
        }
      ]
    },
    {
      "cell_type": "markdown",
      "metadata": {
        "id": "pG1doAnMRM7i",
        "colab_type": "text"
      },
      "source": [
        "4. Implement a class to represent a circle, holding the radius and $x$ and $y$ coordinates of center of the object. Implement functions that compute the area and parameter of the rectangle. Make all data members private and privide accessors to retrieve values of data members. "
      ]
    },
    {
      "cell_type": "code",
      "metadata": {
        "id": "kCp5ceuFku1R",
        "colab_type": "code",
        "colab": {}
      },
      "source": [
        "class circle:\n",
        "  def __init__(self,radius,x,y):\n",
        "    self.__radius = radius\n",
        "    self.__x = x\n",
        "    self.__y = y\n",
        "\n",
        "  def area(self):\n",
        "    pi = 3.14\n",
        "    return pi*(self.__radius * self.__radius)\n",
        "\n",
        "  def perimeter(self):\n",
        "    pi = 3.14\n",
        "    return 2 * pi * self.__radius\n",
        "    \n",
        "  def radius(self):\n",
        "    return self.__radius\n",
        "\n",
        "  def x(self):\n",
        "    return self.__x\n",
        "\n",
        "  def y(self):\n",
        "    return self.__y\n"
      ],
      "execution_count": 0,
      "outputs": []
    },
    {
      "cell_type": "code",
      "metadata": {
        "id": "FmOvI1yHKVWK",
        "colab_type": "code",
        "colab": {
          "base_uri": "https://localhost:8080/",
          "height": 51
        },
        "outputId": "689b2ad9-aa09-4be2-e389-d060c8e5ee13"
      },
      "source": [
        "my_circle = circle(5,1,2)\n",
        "print(\"Area: \",my_circle.area())\n",
        "print(\"Perimeter: \",my_circle.perimeter())"
      ],
      "execution_count": 14,
      "outputs": [
        {
          "output_type": "stream",
          "text": [
            "Area:  78.5\n",
            "Perimeter:  31.400000000000002\n"
          ],
          "name": "stdout"
        }
      ]
    },
    {
      "cell_type": "markdown",
      "metadata": {
        "id": "bagxAawjRM7i",
        "colab_type": "text"
      },
      "source": [
        "5. Implement a common base class for the classes implemented in 3 and 4 above which implements all common methods as dummy functions. Re-implement those classes to inherit from the base class and overload the functions accordingly. "
      ]
    },
    {
      "cell_type": "code",
      "metadata": {
        "id": "jbwWy6_0mbRY",
        "colab_type": "code",
        "colab": {}
      },
      "source": [
        "class shape:\n",
        "  def __init__(self,x,y):\n",
        "    self.__x = x\n",
        "    self.__y = y\n",
        "\n",
        "  def area(self):\n",
        "    raise NotImplementedError\n",
        "  \n",
        "  def perimeter(self):\n",
        "    raise NotImplementedError\n",
        "    \n",
        "  def x(self):\n",
        "    return self.__x\n",
        "\n",
        "  def y(self):\n",
        "    return self.__y\n",
        "\n",
        "class rectangle(shape):\n",
        "  def __init__(self,width,length,x,y):\n",
        "    shape.__init__(self,x,y)\n",
        "    self.__width = width\n",
        "    self.__length = length\n",
        "  \n",
        "  def area(self):\n",
        "    return self.__width * self.__length\n",
        "\n",
        "  def perimeter(self):\n",
        "    return 2*(self.__width + self.__length)\n",
        "\n",
        "  def width(self):\n",
        "    return self.__width\n",
        "\n",
        "  def length(self):\n",
        "    return self.__length\n",
        "\n",
        "class circle(shape):\n",
        "  def __init__(self,radius,x,y):\n",
        "    shape.__init__(self,x,y)\n",
        "    self.__radius = radius\n",
        "\n",
        "  def area(self):\n",
        "    pi = 3.14\n",
        "    return pi*(self.__radius * self.__radius)\n",
        "\n",
        "  def perimeter(self):\n",
        "    pi = 3.14\n",
        "    return 2 * pi * self.__radius\n",
        "    \n",
        "  def radius(self):\n",
        "    return self.__radius\n"
      ],
      "execution_count": 0,
      "outputs": []
    },
    {
      "cell_type": "code",
      "metadata": {
        "id": "we4RwuRMXTVx",
        "colab_type": "code",
        "colab": {
          "base_uri": "https://localhost:8080/",
          "height": 119
        },
        "outputId": "32729f42-bba6-491a-f752-27e51c91eaf5"
      },
      "source": [
        "a_rect = rectangle(4,3,2,1)\n",
        "print(\"a_rect's area is \",a_rect.area())\n",
        "print(\"a_rect's perimeter is \",a_rect.perimeter())\n",
        "print(\"a_rect's coords is \",a_rect.x(),a_rect.y())\n",
        "a_circ = circle(3,2,1)\n",
        "print(\"a_circ's area is \",a_circ.area())\n",
        "print(\"a_circ's perimeter is \",a_circ.perimeter())\n",
        "print(\"a_circ's coords is \",a_circ.x(),a_circ.y())"
      ],
      "execution_count": 22,
      "outputs": [
        {
          "output_type": "stream",
          "text": [
            "a_rect's area is  12\n",
            "a_rect's perimeter is  14\n",
            "a_rect's coords is  2 1\n",
            "a_circ's area is  28.26\n",
            "a_circ's perimeter is  18.84\n",
            "a_circ's coords is  2 1\n"
          ],
          "name": "stdout"
        }
      ]
    },
    {
      "cell_type": "markdown",
      "metadata": {
        "id": "pY6rHlB7RM7j",
        "colab_type": "text"
      },
      "source": [
        "6. Implement an analogous triangle class."
      ]
    },
    {
      "cell_type": "code",
      "metadata": {
        "id": "S2Caup5lcPK6",
        "colab_type": "code",
        "colab": {}
      },
      "source": [
        "class triangle(shape):\n",
        "  def __init__(self,base,height,x,y):\n",
        "    shape.__init__(self,x,y)\n",
        "    self.__base = base\n",
        "    self.__height = height\n",
        "  \n",
        "  def area(self):\n",
        "    return self.__height * self.__base / 2\n",
        "\n",
        "  def perimeter(self):\n",
        "    a = self.__base/2\n",
        "    b = self.__height\n",
        "    c = (a**2 + b**2)**(1/2)\n",
        "    return a*2 + c*2\n",
        "\n",
        "  def base(self):\n",
        "    return self.__base\n",
        "\n",
        "  def height(self):\n",
        "    return self.__height\n"
      ],
      "execution_count": 0,
      "outputs": []
    },
    {
      "cell_type": "code",
      "metadata": {
        "id": "IfeMk6u7KxEH",
        "colab_type": "code",
        "colab": {
          "base_uri": "https://localhost:8080/",
          "height": 51
        },
        "outputId": "0deeac05-d331-4036-e40b-cbe190fd2717"
      },
      "source": [
        "a_tri = triangle(2,4,1,1)\n",
        "print(\"Area: \",a_tri.area())\n",
        "print(\"Perimeter: \",a_tri.perimeter())"
      ],
      "execution_count": 28,
      "outputs": [
        {
          "output_type": "stream",
          "text": [
            "Area:  4.0\n",
            "Perimeter:  10.246211251235321\n"
          ],
          "name": "stdout"
        }
      ]
    },
    {
      "cell_type": "markdown",
      "metadata": {
        "id": "uzppZUkERM7j",
        "colab_type": "text"
      },
      "source": [
        "7. Add a function to the object classes that test if a given set of $x$ and $y$ coordinates are inside of the object."
      ]
    },
    {
      "cell_type": "code",
      "metadata": {
        "id": "I7OVXkRudiS_",
        "colab_type": "code",
        "colab": {}
      },
      "source": [
        "class shape:\n",
        "  def __init__(self,x,y):\n",
        "    self.__x = x\n",
        "    self.__y = y\n",
        "\n",
        "  def area(self):\n",
        "    raise NotImplementedError\n",
        "  \n",
        "  def perimeter(self):\n",
        "    raise NotImplementedError\n",
        "\n",
        "  def test_coords(self,x1,y1):\n",
        "    raise NotImplementedError\n",
        "    \n",
        "  def x(self):\n",
        "    return self.__x\n",
        "\n",
        "  def y(self):\n",
        "    return self.__y\n",
        "\n",
        "class rectangle(shape):\n",
        "  def __init__(self,width,length,x,y):\n",
        "    shape.__init__(self,x,y)\n",
        "    self.__width = width\n",
        "    self.__length = length\n",
        "  \n",
        "  def area(self):\n",
        "    return self.__width * self.__length\n",
        "\n",
        "  def perimeter(self):\n",
        "    return 2*(self.__width + self.__length)\n",
        "\n",
        "  def width(self):\n",
        "    return self.__width\n",
        "\n",
        "  def length(self):\n",
        "    return self.__length\n",
        "\n",
        "  def check_coords(self,x1,y1):\n",
        "    if (x1 >= shape.x(self)) and (x1 <= shape.x(self)+self.__width):\n",
        "      if (y1 >= shape.y(self)) and (y1 <= shape.y(self)+self.__length):\n",
        "        return \"Object is within coords\"\n",
        "\n",
        "class circle(shape):\n",
        "  def __init__(self,radius,x,y):\n",
        "    shape.__init__(self,x,y)\n",
        "    self.__radius = radius\n",
        "\n",
        "  def area(self):\n",
        "    pi = 3.14\n",
        "    return pi*(self.__radius * self.__radius)\n",
        "\n",
        "  def perimeter(self):\n",
        "    pi = 3.14\n",
        "    return 2 * pi * self.__radius\n",
        "    \n",
        "  def radius(self):\n",
        "    return self.__radius\n",
        "\n",
        "  def check_coords(self,x1,y1):\n",
        "    if ((shape.x(self)-x1)**2 + (shape.y(self)-y1)**2 == self.__radius**2):\n",
        "      return \"Object is within coords\"\n",
        "\n",
        "class triangle(shape):\n",
        "  def __init__(self,base,height,x,y):\n",
        "    shape.__init__(self,x,y)\n",
        "    self.__base = base\n",
        "    self.__height = height\n",
        "  \n",
        "  def area(self):\n",
        "    return self.__height * self.__base / 2\n",
        "\n",
        "  def perimeter(self):\n",
        "    a = self.__base/2\n",
        "    b = self.__height\n",
        "    c = (a**2 + b**2)**(1/2)\n",
        "    return a*2 + c*2\n",
        "\n",
        "  def base(self):\n",
        "    return self.__base\n",
        "\n",
        "  def height(self):\n",
        "    return self.__height"
      ],
      "execution_count": 0,
      "outputs": []
    },
    {
      "cell_type": "code",
      "metadata": {
        "id": "wp81viw_Z2iq",
        "colab_type": "code",
        "colab": {}
      },
      "source": [
        "a_rect = rectangle(5,5,1,1)\n",
        "a_rect.check_coords(2,2)\n",
        "\n",
        "a_circ = circle(5,1,1)\n",
        "a_circ.check_coords(1,1)"
      ],
      "execution_count": 0,
      "outputs": []
    },
    {
      "cell_type": "markdown",
      "metadata": {
        "id": "yABSOIK-RM7j",
        "colab_type": "text"
      },
      "source": [
        "8. Add a function to the object classes that return a list of up to 16 pairs of  $x$ and $y$ points on the parameter of the object.\n",
        "\n"
      ]
    },
    {
      "cell_type": "code",
      "metadata": {
        "id": "ZOno-Y2TU7nL",
        "colab_type": "code",
        "colab": {}
      },
      "source": [
        ""
      ],
      "execution_count": 0,
      "outputs": []
    },
    {
      "cell_type": "markdown",
      "metadata": {
        "id": "20GebL6aRM7k",
        "colab_type": "text"
      },
      "source": [
        "9. Add a function in the base class of the object classes that returns true/false testing that the object overlaps with another object."
      ]
    },
    {
      "cell_type": "code",
      "metadata": {
        "id": "UNWj_oQdU7RE",
        "colab_type": "code",
        "colab": {}
      },
      "source": [
        ""
      ],
      "execution_count": 0,
      "outputs": []
    }
  ]
}