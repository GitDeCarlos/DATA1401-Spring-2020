{
  "nbformat": 4,
  "nbformat_minor": 0,
  "metadata": {
    "kernelspec": {
      "name": "python3",
      "display_name": "Python 3"
    },
    "colab": {
      "name": "Copy of Lab-2.ipynb",
      "provenance": [],
      "collapsed_sections": []
    }
  },
  "cells": [
    {
      "cell_type": "markdown",
      "metadata": {
        "id": "uk7yc0nadBGa",
        "colab_type": "text"
      },
      "source": [
        "# Lab 2\n",
        "\n",
        "[![Open In Colab](https://colab.research.google.com/assets/colab-badge.svg)](https://colab.research.google.com/github//afarbin/DATA1401-Spring-2020/blob/master/Labs/Lab-2/Lab-2.ipynb)\n",
        "\n",
        "## Submitting lab solutions\n",
        "\n",
        "At the end of the previous lab, you should have set up a \"Solutions\" directory in your Google Drive, with a fork of the class git repository that pull from Dr. Farbin's verison and pushes to your own fork. \n",
        "\n",
        "Unfortunately due to a typo in the previous lab, you probably forked the 2019 version of the gitlab repository for this course. Unless you noticed and corrected the error, you'll have to fork again.\n",
        "\n",
        "In addition, due to some problems with the setup in Google Colab, we will be submitting our solutions to your fork using the web interface. Instructions on how to use the command-line are in this notebook, but we suggest you do not follow them unless you are working in a jupyter notebook and not Google Colab."
      ]
    },
    {
      "cell_type": "markdown",
      "metadata": {
        "id": "OMNaOnRksNK3",
        "colab_type": "text"
      },
      "source": [
        "You may also choose to delete the fork from your GitHub account. "
      ]
    },
    {
      "cell_type": "markdown",
      "metadata": {
        "colab_type": "text",
        "id": "J_R64sQDqv0A"
      },
      "source": [
        "## Repeating last steps of Lab 1\n",
        "\n",
        "### Create your own fork\n",
        "We will create a new fork where you can keep track and submit your work, following [these instructions](https://help.github.com/articles/fork-a-repo/).\n",
        "\n",
        "Goto to github.com and log in.\n",
        "\n",
        "Next, create a fork of the [2020 class repository](https://github.com/afarbin/DATA1401-Spring-2020). Click the link and press the \"Fork\" button on the top right. Select your repository as where you want to place the fork.\n"
      ]
    },
    {
      "cell_type": "markdown",
      "metadata": {
        "colab_type": "text",
        "id": "edTvE6rOqv0C"
      },
      "source": [
        "### Make a local clone (Advanced)\n",
        "\n",
        "Before we get started, please mount your Google Drive using by clicking the file icon on the left, then clicking \"Mount Drive\", and following the instructions as you did in the previous lab.\n",
        "\n",
        "If you did complete Lab 1 and therefore created a 2019 fork and a local clone in you Google Drive, delete the local clone:\n",
        "\n"
      ]
    },
    {
      "cell_type": "code",
      "metadata": {
        "id": "2u6B-rfNr1wN",
        "colab_type": "code",
        "colab": {}
      },
      "source": [
        "!rm -rf drive/My\\ Drive/Data-1401-Repo"
      ],
      "execution_count": 0,
      "outputs": []
    },
    {
      "cell_type": "markdown",
      "metadata": {
        "id": "BDVI5nu8-2RH",
        "colab_type": "text"
      },
      "source": [
        "Now we will check out your fork in your Google Drive / Colab. If you will be doing everything on your own computer instead of Google Colab/Drive, you are welcome to install Git on your computer and perform the following steps (appropriately modified) on your computer instead.\n",
        "\n",
        "Start by listing the contents of your current directory."
      ]
    },
    {
      "cell_type": "code",
      "metadata": {
        "colab_type": "code",
        "id": "e5tXg0f8qv0D",
        "colab": {}
      },
      "source": [
        "%cd /content/drive/My\\ Drive\n",
        "!ls"
      ],
      "execution_count": 0,
      "outputs": []
    },
    {
      "cell_type": "markdown",
      "metadata": {
        "colab_type": "text",
        "id": "WYsyYcg1qv0J"
      },
      "source": [
        "Make a new directory:"
      ]
    },
    {
      "cell_type": "code",
      "metadata": {
        "colab_type": "code",
        "id": "Z7noY1hMqv0L",
        "colab": {}
      },
      "source": [
        "!mkdir Data-1401-Repo\n",
        "%cd Data-1401-Repo"
      ],
      "execution_count": 0,
      "outputs": []
    },
    {
      "cell_type": "markdown",
      "metadata": {
        "colab_type": "text",
        "id": "fwsBdTnYqv0Q"
      },
      "source": [
        "From the github page for your fork, press the green \"Clone or download\" button and copy the URL.\n",
        "\n",
        "Goto to your notebook and use the following command to clone the repository, pasting the URL you just copied:\n"
      ]
    },
    {
      "cell_type": "code",
      "metadata": {
        "colab_type": "code",
        "id": "8w42MH6Jqv0S",
        "colab": {}
      },
      "source": [
        "# What you past here should look like:\n",
        "#!git clone https://github.com/<github username/DATA1401-Spring-2020.git\n"
      ],
      "execution_count": 0,
      "outputs": []
    },
    {
      "cell_type": "markdown",
      "metadata": {
        "colab_type": "text",
        "id": "cOAuqTVUqv0V"
      },
      "source": [
        "Go into the directory:"
      ]
    },
    {
      "cell_type": "code",
      "metadata": {
        "colab_type": "code",
        "id": "b1Ew4tEZqv0X",
        "colab": {}
      },
      "source": [
        "%cd DATA1401-Spring-2020\n",
        "!ls"
      ],
      "execution_count": 0,
      "outputs": []
    },
    {
      "cell_type": "markdown",
      "metadata": {
        "colab_type": "text",
        "id": "IrhWToc-qv0a"
      },
      "source": [
        "We will now connect your fork to the original so you can pull changes from there. \n",
        "\n",
        "Check remote status:"
      ]
    },
    {
      "cell_type": "code",
      "metadata": {
        "colab_type": "code",
        "id": "JxtMYR-9qv0c",
        "colab": {}
      },
      "source": [
        "!git remote -v"
      ],
      "execution_count": 0,
      "outputs": []
    },
    {
      "cell_type": "markdown",
      "metadata": {
        "colab_type": "text",
        "id": "9ud3X0fBqv0f"
      },
      "source": [
        "Now use the original class URL to set your upstream:"
      ]
    },
    {
      "cell_type": "code",
      "metadata": {
        "colab_type": "code",
        "id": "pgJlKxBqqv0h",
        "colab": {}
      },
      "source": [
        "!git remote add upstream https://github.com/afarbin/DATA1401-Spring-2020.git"
      ],
      "execution_count": 0,
      "outputs": []
    },
    {
      "cell_type": "code",
      "metadata": {
        "colab_type": "code",
        "id": "id2yUEt9qv0k",
        "colab": {}
      },
      "source": [
        "!git remote -v"
      ],
      "execution_count": 0,
      "outputs": []
    },
    {
      "cell_type": "markdown",
      "metadata": {
        "colab_type": "text",
        "id": "sAkgeJ6Iqv0n"
      },
      "source": [
        "From now on, you can get the newest version of class material by using:"
      ]
    },
    {
      "cell_type": "code",
      "metadata": {
        "colab_type": "code",
        "id": "AGDsfTFLqv0o",
        "colab": {}
      },
      "source": [
        "!git pull"
      ],
      "execution_count": 0,
      "outputs": []
    },
    {
      "cell_type": "markdown",
      "metadata": {
        "colab_type": "text",
        "id": "u9RAhs5b4vXY"
      },
      "source": [
        "You should be setup now.\n",
        "\n",
        "## Make your for Private\n",
        "\n",
        "As a final step, go back to your fork in GitHub and click the \"gear\" icon to change the settings. Select \"Options\" on the left and scroll all the way down. Then click on \"Make Private\" to make your repository private. \n",
        "\n",
        "Next select the collaborators on the left and add your Professor and TA as collaborators. "
      ]
    },
    {
      "cell_type": "markdown",
      "metadata": {
        "id": "i1q1wv0IqqBL",
        "colab_type": "text"
      },
      "source": [
        "## Working on and Submitting Labs\n",
        "\n",
        "As mentioned in class, you are welcome to not use Google Colab and instead install and use your own instance of Jupyter to work on the labs.\n",
        "\n",
        "No matter where you do you work, you will submit your work into your fork of the class repository in GitHub. \n",
        "\n",
        "### Updating your fork\n",
        "\n",
        "The class repository will be updated several times a week. But your fork will not be updated, unless you do so explicitly. There are two ways for you to update your fork:\n",
        "\n",
        "1. Use GitHub's web interface to make a pull request from the course base to your fork.\n",
        "  * Goto your fork in GitHub.\n",
        "  * Press \"New Pull Request\"\n",
        "  * You should see option to select base/head repository that allows you to select \"afarbin/Data1401-Spring-2020\" as the base. If not press \"compare accross forks\".\n",
        "  * Make sure you select your fork as the head.\n",
        "  * Press \"Create a pull request\".\n",
        "  * Press \"Merge pull request\".\n",
        "  * Press \"Confirm pull\".\n",
        "\n",
        "2. Go to your clone of your fork in Google Drive (or local on your computer) that setup above and do a `git pull`. (Advanced)\n",
        "\n",
        "### Working on your labs\n",
        "\n",
        "If you are working in Google Colab, you should immediately save a copy of you labs into your Google Drive as soon as you start working, and save frequently so you don't loose your work. These copies of the labs will appear in drive/My Drive/Colab Notebooks. \n",
        "\n",
        "### Submitting your labs\n",
        "\n",
        "Once you are done with a lab and are ready to submit, you have several options:\n",
        "\n",
        "1. You can download the lab to your local computer and them commit to your GitHub fork via GitHub's web interface. \n",
        "\n",
        "  * Download by selecting \"Download .ipynb\" from the file menu.\n",
        "  * Appropriately rename the downloaded file (for example Lab-1-Solutions.ipynb).\n",
        "  * On github, navigate to the directory for the specific lab.\n",
        "  * Click on upload and upload your solutions.\n",
        "\n",
        "2. (Advanced) You can copy the lab into your fork and commit/push using the command-line. Here's how:\n",
        "\n",
        "  * Using \"cd\" command navigate to the clone of your fork in Google Drive (or local) and do  `git remote -v` to verify that things are correctly setup.\n",
        "\n",
        "  * If you are working on Google Colab, your copy of lab with your solutions is stored in contents/drive/My Drive/Colab Notebooks. Locate the your lab 1 notebook and copy and rename it into the same directory in your fork. \n",
        "\n",
        "For example: (Note we are using the full paths here just to make sure everything works... but if you are already in the fork directory, you don't need the full path everywhere)."
      ]
    },
    {
      "cell_type": "code",
      "metadata": {
        "id": "CtPQXoQMdBGg",
        "colab_type": "code",
        "colab": {}
      },
      "source": [
        "!cp /content/drive/My\\ Drive/Colab\\ Notebooks/Copy\\ of\\ Lab-2.ipynb /content/drive/My\\ Drive/Data-1401-Repo/DATA1401-Spring-2020/Labs/Lab-2/Lab-2-Solution.ipynb"
      ],
      "execution_count": 0,
      "outputs": []
    },
    {
      "cell_type": "markdown",
      "metadata": {
        "id": "b04FrL7sdBGr",
        "colab_type": "text"
      },
      "source": [
        "The reason we are renaming the file is due to a complication that you may experience when pulling updates into your fork. If a file was updated after your last pull and modifications, your modifications will likely cause a merge conflict, which can be a headache to resolve. Creating a new file side-steps this problem.\n",
        "\n",
        "Now that you have a new file in your fork, add the file into local repository:"
      ]
    },
    {
      "cell_type": "code",
      "metadata": {
        "id": "2o9JmQ1QdBGs",
        "colab_type": "code",
        "colab": {}
      },
      "source": [
        "!git add /content/drive/My\\ Drive/Data-1401-Repo/DATA1401-Spring-2020/Labs/Lab-2/Lab-2-Solution.ipynb"
      ],
      "execution_count": 0,
      "outputs": []
    },
    {
      "cell_type": "markdown",
      "metadata": {
        "id": "HX4xOctmdBG0",
        "colab_type": "text"
      },
      "source": [
        "You only need to add a file once. Next, commit this file to your local copy of the repository. If this is the first time you are doing a commit, you will have to tell git your github username."
      ]
    },
    {
      "cell_type": "code",
      "metadata": {
        "id": "Tn9jf5VXdBG1",
        "colab_type": "code",
        "colab": {}
      },
      "source": [
        "# Uncomment and modify lines below if needed\n",
        "#!git config --global user.email \"you@example.com\"\n",
        "#!git config --global user.name \"Your Name\"\n",
        "!git commit -a -m \"My Lab 2 Solutions\""
      ],
      "execution_count": 0,
      "outputs": []
    },
    {
      "cell_type": "markdown",
      "metadata": {
        "id": "JfKXTlv1dBG5",
        "colab_type": "text"
      },
      "source": [
        "You are required to provide a text message when commiting files, and the `-m` option is the nicest way to do it. If you do not supply a message, you will find yourself in a text editor (most likely vi) which is difficult to use and forced to enter a message.\n",
        "\n",
        "You will need to commit your changes every time you wish to submit any changes. So if you keep working or come back to a lab, make sure you commit your changes.\n",
        "\n",
        "Now that you committed your changes, you will need to push these changes to the fork of the package in your github account:"
      ]
    },
    {
      "cell_type": "code",
      "metadata": {
        "id": "L7UZOLYAdBG6",
        "colab_type": "code",
        "colab": {}
      },
      "source": [
        "!git push"
      ],
      "execution_count": 0,
      "outputs": []
    },
    {
      "cell_type": "markdown",
      "metadata": {
        "id": "3dI_D9PAdBG-",
        "colab_type": "text"
      },
      "source": [
        "You will likely need to supply you git username and password.\n",
        "\n",
        "Your lab is now available for grading. Remember that unless you commit and push your work, it will not be seen.\n",
        "\n",
        "From now on, use this procedure to submit your solutions to labs, including the remainder of this lab. \n",
        "\n",
        "You can work in your Solutions directory if you like. But note that it may be a good practice to use the \"File\" menu to duplicate and remain labs when you first start. Besides letting you avoid having to do the copy later, you will have a copy of the original notebook, in case you delete something and can pull updates, in case of bug fixes."
      ]
    },
    {
      "cell_type": "markdown",
      "metadata": {
        "id": "q-gMWiE4dBG_",
        "colab_type": "text"
      },
      "source": [
        "## Python Programming\n",
        "\n",
        "In the remainder of this lab you will practice python by solving some simple exercises. \n",
        "\n",
        "*Exercise 1:* Write 2 functions `even(x)` and `odd(x)` that take an integer and returns True if the input is even or odd, otherwise returns False. Use cell below for your solution. Use the subsequent cell to demonstrate that your solution works. Feel free to add additional cell as needed using the \"+\" button on the button bar above. "
      ]
    },
    {
      "cell_type": "code",
      "metadata": {
        "id": "jwN5jff1dBG_",
        "colab_type": "code",
        "colab": {}
      },
      "source": [
        "# Write your solution here\n",
        "\n",
        "def even(x):\n",
        "  return x%2 == 0\n",
        "\n",
        "def odd(x):\n",
        "  return x%2 == 1\n"
      ],
      "execution_count": 0,
      "outputs": []
    },
    {
      "cell_type": "code",
      "metadata": {
        "id": "xNJAcodhdBHB",
        "colab_type": "code",
        "outputId": "1b5f9de3-39b2-4325-c852-f9fa442a2f5f",
        "colab": {
          "base_uri": "https://localhost:8080/",
          "height": 218
        }
      },
      "source": [
        "# Test your solution here\n",
        "\n",
        "for x in range(1,5):\n",
        "  print(\"Testing if %d is even: %r\" %(x, even(x)))\n",
        "  print(\"Testing if %d is odd:  %r\\n\" %(x, odd(x)))"
      ],
      "execution_count": 0,
      "outputs": [
        {
          "output_type": "stream",
          "text": [
            "Testing if 1 is even: False\n",
            "Testing if 1 is odd:  True\n",
            "\n",
            "Testing if 2 is even: True\n",
            "Testing if 2 is odd:  False\n",
            "\n",
            "Testing if 3 is even: False\n",
            "Testing if 3 is odd:  True\n",
            "\n",
            "Testing if 4 is even: True\n",
            "Testing if 4 is odd:  False\n",
            "\n"
          ],
          "name": "stdout"
        }
      ]
    },
    {
      "cell_type": "markdown",
      "metadata": {
        "id": "KL_pyzG8dBHD",
        "colab_type": "text"
      },
      "source": [
        "*Exercise 2:* Write a function that takes a list of numbers as input and returns a list of the subset of elements that are less that 10. Test your solution."
      ]
    },
    {
      "cell_type": "code",
      "metadata": {
        "id": "g8nt0wnldBHE",
        "colab_type": "code",
        "colab": {}
      },
      "source": [
        "# Write you solution here\n",
        "\n",
        "def numsUnderTen(lst):\n",
        "  underTen = []\n",
        "  for x in lst:\n",
        "    if x < 10:\n",
        "      underTen.append(x);\n",
        "  return underTen\n"
      ],
      "execution_count": 0,
      "outputs": []
    },
    {
      "cell_type": "code",
      "metadata": {
        "id": "__HTUWA1dBHH",
        "colab_type": "code",
        "outputId": "85d7ffef-a9e4-4681-9310-1d840e75fb64",
        "colab": {
          "base_uri": "https://localhost:8080/",
          "height": 34
        }
      },
      "source": [
        "# Test your solution here\n",
        "\n",
        "nums = [2, 0, 1, 10, 34, 9]\n",
        "print(numsUnderTen(nums), \"was last year.\")"
      ],
      "execution_count": 0,
      "outputs": [
        {
          "output_type": "stream",
          "text": [
            "[2, 0, 1, 9] was last year.\n"
          ],
          "name": "stdout"
        }
      ]
    },
    {
      "cell_type": "markdown",
      "metadata": {
        "id": "T0cx91JudBHK",
        "colab_type": "text"
      },
      "source": [
        "*Exercise 3:* Write a function that takes a number `x_max` as input and returns a function that performs the same task as exercise 2, but for `x_max` instead of 10."
      ]
    },
    {
      "cell_type": "code",
      "metadata": {
        "id": "PqummMcmdBHK",
        "colab_type": "code",
        "colab": {}
      },
      "source": [
        "# Write you solution here\n",
        "\n",
        "def numsUnderMax(x_max):\n",
        "  def checkNums(lst):\n",
        "    nums = []\n",
        "    for x in lst:\n",
        "      if x < x_max:\n",
        "        nums.append(x)\n",
        "    return nums\n",
        "  return checkNums\n"
      ],
      "execution_count": 0,
      "outputs": []
    },
    {
      "cell_type": "code",
      "metadata": {
        "id": "evRYemjXdBHN",
        "colab_type": "code",
        "outputId": "552f5f3d-6192-4f6d-ba0d-f76093604fd1",
        "colab": {
          "base_uri": "https://localhost:8080/",
          "height": 34
        }
      },
      "source": [
        "# Test your solution here\n",
        "\n",
        "max_20 = numsUnderMax(20)\n",
        "my_list = [1, 2, 5, 9, 20]\n",
        "\n",
        "max_20(my_list)"
      ],
      "execution_count": 0,
      "outputs": [
        {
          "output_type": "execute_result",
          "data": {
            "text/plain": [
              "[1, 2, 5, 9]"
            ]
          },
          "metadata": {
            "tags": []
          },
          "execution_count": 58
        }
      ]
    },
    {
      "cell_type": "markdown",
      "metadata": {
        "id": "h0I8M27LdBHP",
        "colab_type": "text"
      },
      "source": [
        "*Exercise 4:* Write a function that takes an interger as input and returns a list of all divisors of that number."
      ]
    },
    {
      "cell_type": "code",
      "metadata": {
        "id": "k6GUpDyrdBHP",
        "colab_type": "code",
        "colab": {}
      },
      "source": [
        "# Write you solution here\n",
        "\n",
        "def divisors(x):\n",
        "  x_divs = []\n",
        "  for i in range(1,x):\n",
        "    if x % i == 0:\n",
        "      x_divs.append(i)\n",
        "  return x_divs"
      ],
      "execution_count": 0,
      "outputs": []
    },
    {
      "cell_type": "code",
      "metadata": {
        "id": "YDvRmft-dBHR",
        "colab_type": "code",
        "outputId": "d684daef-4de1-43e7-b090-a9ebdbd87371",
        "colab": {
          "base_uri": "https://localhost:8080/",
          "height": 101
        }
      },
      "source": [
        "# Test your solution here\n",
        "\n",
        "for x in range(5,10):\n",
        "  print(\"The divisors of %d is: \" %(x), divisors(x))"
      ],
      "execution_count": 0,
      "outputs": [
        {
          "output_type": "stream",
          "text": [
            "The divisors of 5 is:  [1]\n",
            "The divisors of 6 is:  [1, 2, 3]\n",
            "The divisors of 7 is:  [1]\n",
            "The divisors of 8 is:  [1, 2, 4]\n",
            "The divisors of 9 is:  [1, 3]\n"
          ],
          "name": "stdout"
        }
      ]
    },
    {
      "cell_type": "markdown",
      "metadata": {
        "id": "IOWnLMvxdBHT",
        "colab_type": "text"
      },
      "source": [
        "*Exercise 5:* Write a function that takes 2 lists as input and returns a list that contains only the elements that are common between the lists (without duplicates). Make sure your program works on two lists of different sizes."
      ]
    },
    {
      "cell_type": "code",
      "metadata": {
        "id": "tR31bnTDdBHT",
        "colab_type": "code",
        "colab": {}
      },
      "source": [
        "# Write you solution here\n",
        "\n",
        "def compare_lists(lst_1, lst_2):\n",
        "  shared_nums = []\n",
        "  for y in lst_1:\n",
        "    for x in lst_2:\n",
        "      if y == x:\n",
        "        shared_nums.append(y)\n",
        "  return shared_nums"
      ],
      "execution_count": 0,
      "outputs": []
    },
    {
      "cell_type": "code",
      "metadata": {
        "id": "IJDf6ebYdBHV",
        "colab_type": "code",
        "outputId": "85c67674-4583-43df-d033-4df4da1ed6f3",
        "colab": {
          "base_uri": "https://localhost:8080/",
          "height": 34
        }
      },
      "source": [
        "# Test your solution here\n",
        "\n",
        "my_list_1 = [1, 4, 234 , 3, 7]\n",
        "my_list_2 = [1, 5, 8, 4, 7]\n",
        "\n",
        "compare_lists(my_list_1, my_list_2)"
      ],
      "execution_count": 0,
      "outputs": [
        {
          "output_type": "execute_result",
          "data": {
            "text/plain": [
              "[1, 4, 7]"
            ]
          },
          "metadata": {
            "tags": []
          },
          "execution_count": 78
        }
      ]
    },
    {
      "cell_type": "markdown",
      "metadata": {
        "id": "3vA7M9pldBHX",
        "colab_type": "text"
      },
      "source": [
        "*Exercise 6:* Write a function that reads takes a string and returns `True` if the string is a palindrome. (A palindrome is a string that reads the same forwards and backwards.)"
      ]
    },
    {
      "cell_type": "code",
      "metadata": {
        "id": "ncyMDzp6dBHX",
        "colab_type": "code",
        "colab": {}
      },
      "source": [
        "# Write you solution here\n",
        "\n",
        "def check_for_palindrome(phrase):\n",
        "  for index, item in enumerate(phrase):\n",
        "    # print(phrase[index], phrase[-index-1])\n",
        "    if (phrase[index].lower() != phrase[-index-1].lower()):\n",
        "        print(\"%r is not a palindrome.\" %phrase)\n",
        "        break\n",
        "    elif (index == len(phrase)-1): \n",
        "      print(\"%r is a palindrome.\" %phrase)\n",
        "  "
      ],
      "execution_count": 0,
      "outputs": []
    },
    {
      "cell_type": "code",
      "metadata": {
        "id": "v5cmVQ6MdBHZ",
        "colab_type": "code",
        "outputId": "664d97f3-7a23-4550-bec7-43184504a04c",
        "colab": {
          "base_uri": "https://localhost:8080/",
          "height": 67
        }
      },
      "source": [
        "# Test your solution here\n",
        "\n",
        "check_for_palindrome(\"bananab\")\n",
        "check_for_palindrome('Carlos')\n",
        "check_for_palindrome(\"Hannah\")"
      ],
      "execution_count": 0,
      "outputs": [
        {
          "output_type": "stream",
          "text": [
            "'bananab' is a palindrome.\n",
            "'Carlos' is not a palindrome.\n",
            "'Hannah' is a palindrome.\n"
          ],
          "name": "stdout"
        }
      ]
    },
    {
      "cell_type": "markdown",
      "metadata": {
        "id": "fT35xwandBHc",
        "colab_type": "text"
      },
      "source": [
        "*Exercise 7:* Write a Rock-Paper-Scissors game function, that takes 2 strings, the inputs of player 1 and player 2, and output 1 or 2 corresponding to which player wins, or 0 if draw.\n",
        "\n",
        "Implement a Rock-Paper-Scissors game by soliciting input from 2 players, testing with this function, and repeating if there is a draw.\n",
        "\n",
        "Remember the rules:\n",
        "\n",
        "* Rock beats scissors\n",
        "* Scissors beats paper\n",
        "* Paper beats rock"
      ]
    },
    {
      "cell_type": "code",
      "metadata": {
        "id": "U1_HxxaWdBHd",
        "colab_type": "code",
        "colab": {}
      },
      "source": [
        "# Write you solution here\n",
        "\n",
        "def rps_check(str1, str2):\n",
        "  win_dict = {\n",
        "      \"rock\" : \"scissors\",\n",
        "      \"paper\" : \"rock\",\n",
        "      \"scissors\" : \"paper\"\n",
        "  }\n",
        "\n",
        "  if(win_dict[str1] == str2):\n",
        "    return 1\n",
        "  else:\n",
        "    if(win_dict[str2] == str1):\n",
        "      return 2\n",
        "    elif(str1 == str2):\n",
        "      return 0\n"
      ],
      "execution_count": 0,
      "outputs": []
    },
    {
      "cell_type": "code",
      "metadata": {
        "id": "ooR2ldZBdBHf",
        "colab_type": "code",
        "outputId": "2e8af69e-896d-4cc4-df4a-f77d3af0916e",
        "colab": {
          "base_uri": "https://localhost:8080/",
          "height": 67
        }
      },
      "source": [
        "# Test your solution here\n",
        "\n",
        "test1 = rps_check(\"rock\", \"paper\")\n",
        "test2 = rps_check(\"rock\", \"scissors\")\n",
        "test3 = rps_check(\"rock\", \"rock\")\n",
        "\n",
        "print(\"Player1: rock | Player2: paper | Result: %d\" %test1)\n",
        "print(\"Player1: rock | Player2: scissors | Result: %d\" %test2)\n",
        "print(\"Player1: rock | Player2: rock | Result: %d\" %test3)\n",
        "\n"
      ],
      "execution_count": 0,
      "outputs": [
        {
          "output_type": "stream",
          "text": [
            "Player1: rock | Player2: paper | Result: 2\n",
            "Player1: rock | Player2: scissors | Result: 1\n",
            "Player1: rock | Player2: rock | Result: 0\n"
          ],
          "name": "stdout"
        }
      ]
    },
    {
      "cell_type": "markdown",
      "metadata": {
        "id": "dJQzXNKzdBHh",
        "colab_type": "text"
      },
      "source": [
        "*Exercise 8:* Write a function that takes a integer `n` as input and \n",
        "outputs a list of the first `n` Fibonnaci numbers.\n",
        "\n",
        "The Fibonnaci seqence is a sequence of numbers where the next number in the sequence is the sum of the previous two numbers in the sequence. The sequence looks like this: 1, 1, 2, 3, 5, 8, 13, …)"
      ]
    },
    {
      "cell_type": "code",
      "metadata": {
        "id": "G_4ooRXTdBHh",
        "colab_type": "code",
        "colab": {}
      },
      "source": [
        "# Write you solution here\n",
        "\n",
        "def fibfunct(n):\n",
        "  fib_nums = list()\n",
        "  x = 1\n",
        "  y = 1\n",
        "  num = 1\n",
        "  fib_nums.append(1)\n",
        "  fib_nums.append(1)\n",
        "  while (x+y < n):\n",
        "    num = x + y\n",
        "    y = x\n",
        "    x = num\n",
        "    fib_nums.append(num)\n",
        "  return fib_nums\n"
      ],
      "execution_count": 0,
      "outputs": []
    },
    {
      "cell_type": "code",
      "metadata": {
        "id": "rzK5FskJdBHj",
        "colab_type": "code",
        "outputId": "e4a21e9a-1045-4129-c71b-e581b043de8d",
        "colab": {
          "base_uri": "https://localhost:8080/",
          "height": 34
        }
      },
      "source": [
        "# Test your solution here\n",
        "\n",
        "fibfunct(100)"
      ],
      "execution_count": 0,
      "outputs": [
        {
          "output_type": "execute_result",
          "data": {
            "text/plain": [
              "[1, 1, 2, 3, 5, 8, 13, 21, 34, 55, 89]"
            ]
          },
          "metadata": {
            "tags": []
          },
          "execution_count": 34
        }
      ]
    },
    {
      "cell_type": "markdown",
      "metadata": {
        "id": "q6c_AskadBHl",
        "colab_type": "text"
      },
      "source": [
        "*Exercise 9:* Write a function that takes a string of consisting of several words and returns a string that reverses the order of the words.\n"
      ]
    },
    {
      "cell_type": "code",
      "metadata": {
        "id": "aJdXX6FHdBHl",
        "colab_type": "code",
        "colab": {}
      },
      "source": [
        "# Write you solution here\n",
        "\n",
        "def reverse_order(words):\n",
        "  word_split = words.split(\" \")\n",
        "  final_string = \"\"\n",
        "  for index,x in enumerate(word_split):\n",
        "    final_string += word_split[-index-1] + \" \"\n",
        "  return final_string\n"
      ],
      "execution_count": 0,
      "outputs": []
    },
    {
      "cell_type": "code",
      "metadata": {
        "id": "nQyhnLZ_dBHn",
        "colab_type": "code",
        "outputId": "c2f7e02e-dc7e-4dad-d37a-35bb94df019f",
        "colab": {
          "base_uri": "https://localhost:8080/",
          "height": 34
        }
      },
      "source": [
        "# Test your solution here\n",
        "\n",
        "words = \"one two three\"\n",
        "words_reverse = reverse_order(words)\n",
        "print(words+ \", \" + words_reverse)"
      ],
      "execution_count": 39,
      "outputs": [
        {
          "output_type": "stream",
          "text": [
            "one two three, three two one \n"
          ],
          "name": "stdout"
        }
      ]
    },
    {
      "cell_type": "markdown",
      "metadata": {
        "id": "NFSmRaSydBHq",
        "colab_type": "text"
      },
      "source": [
        "*Exercise 10:* Write a guessing game program that will repeatedly guess a number that the users picks, with the user indicating higher or lower, until it correctly guesses the number."
      ]
    },
    {
      "cell_type": "code",
      "metadata": {
        "id": "Ie2E1JzCdBHr",
        "colab_type": "code",
        "colab": {}
      },
      "source": [
        "# Write you solution here\n",
        "\n",
        "import random\n",
        "\n",
        "def startGuessingGame(min, max):\n",
        "  my_num = int(input(\"Please enter a number (between %d and %d): \" %(min, max)))\n",
        "  guessed_num = my_num + 1\n",
        "  my_range = [min, max]\n",
        "  while (guessed_num != my_num):\n",
        "      #print(my_range)\n",
        "      guessed_num = random.randrange(my_range[0],my_range[1])\n",
        "      print(\"Is it %d?\" %guessed_num)\n",
        "      if (guessed_num == my_num):\n",
        "        print(\"You number is %d.\" %guessed_num)\n",
        "      else:\n",
        "        response = input(\"Higher or lower?(H/L): \")\n",
        "        if (response == \"L\"):\n",
        "          my_range[1] = guessed_num\n",
        "        elif (response == \"H\"):\n",
        "          my_range[0] = guessed_num\n"
      ],
      "execution_count": 0,
      "outputs": []
    },
    {
      "cell_type": "code",
      "metadata": {
        "id": "6T8YdWSMdBHs",
        "colab_type": "code",
        "colab": {
          "base_uri": "https://localhost:8080/",
          "height": 269
        },
        "outputId": "861fbb7b-e620-4557-aaa7-767dcbe3d46d"
      },
      "source": [
        "# Test your solution here\n",
        "\n",
        "startGuessingGame(0,200)"
      ],
      "execution_count": 15,
      "outputs": [
        {
          "output_type": "stream",
          "text": [
            "Please enter a number (between 0 and 200): 123\n",
            "Is it 132?\n",
            "Higher or lower?(H/L): L\n",
            "Is it 61?\n",
            "Higher or lower?(H/L): H\n",
            "Is it 71?\n",
            "Higher or lower?(H/L): H\n",
            "Is it 81?\n",
            "Higher or lower?(H/L): H\n",
            "Is it 108?\n",
            "Higher or lower?(H/L): H\n",
            "Is it 114?\n",
            "Higher or lower?(H/L): H\n",
            "Is it 123?\n",
            "You number is 123.\n"
          ],
          "name": "stdout"
        }
      ]
    }
  ]
}